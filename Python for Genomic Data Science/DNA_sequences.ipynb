{
  "nbformat": 4,
  "nbformat_minor": 0,
  "metadata": {
    "colab": {
      "provenance": []
    },
    "kernelspec": {
      "name": "python3",
      "display_name": "Python 3"
    },
    "language_info": {
      "name": "python"
    }
  },
  "cells": [
    {
      "cell_type": "markdown",
      "source": [
        "# FASTA File Analysis Script\n",
        "\n",
        "This Python script processes a FASTA file to extract key biological information about DNA sequences. It performs the following tasks:\n",
        "\n",
        "1. **FASTA File Parsing**: Reads sequences and their identifiers from a FASTA file.\n",
        "2. **Sequence Length Analysis**: Determines the number of sequences in the file, identifies the longest and shortest sequences, and their corresponding identifiers.\n",
        "3. **Open Reading Frame (ORF) Detection**: Identifies all ORFs in a specified forward reading frame (1, 2, or 3). It finds the longest ORF in the file and provides its sequence ID, length, and starting position.\n",
        "4. **Repeat Sequence Analysis**: Finds substrings of a given length that appear multiple times in the sequences and determines the most frequent repeat.\n",
        "\n",
        "## Usage\n",
        "Modify the `file_path`, `reading_frame`, and `repeat_length` variables to specify:\n",
        "- The FASTA file location.\n",
        "- The reading frame (1, 2, or 3) for ORF analysis.\n",
        "- The length of repeat sequences to be analyzed.\n",
        "\n",
        "Run the script to generate insights about the DNA sequences, including ORF detection and repeat frequency analysis.\n"
      ],
      "metadata": {
        "id": "tcCNzQJ0qM4J"
      }
    },
    {
      "cell_type": "code",
      "source": [
        "!pip install biopython"
      ],
      "metadata": {
        "colab": {
          "base_uri": "https://localhost:8080/"
        },
        "id": "TvpM9dlB-WeD",
        "outputId": "a6ba8ad0-1909-4da3-c727-af684ec414a2"
      },
      "execution_count": 28,
      "outputs": [
        {
          "output_type": "stream",
          "name": "stdout",
          "text": [
            "Requirement already satisfied: biopython in /usr/local/lib/python3.11/dist-packages (1.85)\n",
            "Requirement already satisfied: numpy in /usr/local/lib/python3.11/dist-packages (from biopython) (1.26.4)\n"
          ]
        }
      ]
    },
    {
      "cell_type": "code",
      "source": [
        "from Bio.Blast import NCBIWWW, NCBIXML  # Import necessary BLAST modules"
      ],
      "metadata": {
        "id": "2Pg_F4v2GeAl"
      },
      "execution_count": 29,
      "outputs": []
    },
    {
      "cell_type": "code",
      "source": [
        "from collections import defaultdict, Counter\n",
        "import re\n",
        "\n",
        "def read_fasta(file_path):\n",
        "    \"\"\"Reads a FASTA file and returns a dictionary with sequence IDs as keys and sequences as values.\"\"\"\n",
        "    sequences = {}\n",
        "    with open(file_path, 'r') as f:\n",
        "        seq_id = None\n",
        "        seq_data = []\n",
        "        for line in f:\n",
        "            line = line.strip()\n",
        "            if line.startswith('>'):\n",
        "                if seq_id:\n",
        "                    sequences[seq_id] = ''.join(seq_data)\n",
        "                seq_id = line[1:].split()[0]  # Extract ID\n",
        "                seq_data = []\n",
        "            else:\n",
        "                seq_data.append(line)\n",
        "        if seq_id:\n",
        "            sequences[seq_id] = ''.join(seq_data)\n",
        "    return sequences\n",
        "\n",
        "def analyze_sequence_lengths(sequences):\n",
        "    \"\"\"Finds the shortest and longest sequences and their identifiers.\"\"\"\n",
        "    lengths = {seq_id: len(seq) for seq_id, seq in sequences.items()}\n",
        "    min_length = min(lengths.values())\n",
        "    max_length = max(lengths.values())\n",
        "    shortest = [seq_id for seq_id, length in lengths.items() if length == min_length]\n",
        "    longest = [seq_id for seq_id, length in lengths.items() if length == max_length]\n",
        "    return lengths, shortest, longest, min_length, max_length\n",
        "\n",
        "def find_orfs(sequence, reading_frame):\n",
        "    \"\"\"Finds all ORFs in a given sequence and reading frame.\"\"\"\n",
        "    start_codon = 'ATG'\n",
        "    stop_codons = {'TAA', 'TAG', 'TGA'}\n",
        "    orfs = []\n",
        "    frame_offset = reading_frame - 1\n",
        "\n",
        "    for i in range(frame_offset, len(sequence) - 2, 3):\n",
        "        if sequence[i:i+3] == start_codon:\n",
        "            for j in range(i, len(sequence) - 2, 3):\n",
        "                codon = sequence[j:j+3]\n",
        "                if codon in stop_codons:\n",
        "                    orfs.append((i+1, j+3, j+3-i))  # Position in 1-based index\n",
        "                    break\n",
        "    return orfs\n",
        "\n",
        "def analyze_orfs(sequences, reading_frame):\n",
        "    \"\"\"Finds the longest ORF in each sequence and the longest ORF in the file.\"\"\"\n",
        "    longest_orf = (None, 0, None)  # (seq_id, length, start_position)\n",
        "    orf_data = {}\n",
        "\n",
        "    for seq_id, seq in sequences.items():\n",
        "        orfs = find_orfs(seq, reading_frame)\n",
        "        if orfs:\n",
        "            max_orf = max(orfs, key=lambda x: x[2])\n",
        "            orf_data[seq_id] = max_orf\n",
        "            if max_orf[2] > longest_orf[1]:\n",
        "                longest_orf = (seq_id, max_orf[2], max_orf[0])\n",
        "\n",
        "    return orf_data, longest_orf\n",
        "\n",
        "def find_repeats(sequences, repeat_length):\n",
        "    \"\"\"Finds repeated substrings of a given length and their frequencies.\"\"\"\n",
        "    repeat_counts = Counter()\n",
        "\n",
        "    for seq in sequences.values():\n",
        "        for i in range(len(seq) - repeat_length + 1):\n",
        "            repeat_counts[seq[i:i+repeat_length]] += 1\n",
        "\n",
        "    max_repeat = max(repeat_counts.values(), default=0)\n",
        "    most_frequent_repeats = [k for k, v in repeat_counts.items() if v == max_repeat]\n",
        "\n",
        "    return repeat_counts, most_frequent_repeats, max_repeat\n",
        "\n",
        "def main(file_path, reading_frame, repeat_length):\n",
        "    sequences = read_fasta(file_path)\n",
        "    num_records = len(sequences)\n",
        "\n",
        "    lengths, shortest, longest, min_len, max_len = analyze_sequence_lengths(sequences)\n",
        "    orf_data, longest_orf = analyze_orfs(sequences, reading_frame)\n",
        "    repeat_counts, most_frequent_repeats, max_repeat = find_repeats(sequences, repeat_length)\n",
        "\n",
        "    print(f\"Number of records in file: {num_records}\")\n",
        "    print(f\"Shortest sequence(s) ({min_len} bp): {shortest}\")\n",
        "    print(f\"Longest sequence(s) ({max_len} bp): {longest}\")\n",
        "\n",
        "    print(\"\\nLongest ORF in the file:\")\n",
        "    print(f\"Sequence ID: {longest_orf[0]}, Length: {longest_orf[1]}, Start Position: {longest_orf[2]}\")\n",
        "\n",
        "    print(\"\\nMost frequent repeats of length\", repeat_length, \":\")\n",
        "    for repeat in most_frequent_repeats:\n",
        "        print(f\"{repeat}: {max_repeat} times\")"
      ],
      "metadata": {
        "id": "A3GgIT_SgwqX"
      },
      "execution_count": 30,
      "outputs": []
    },
    {
      "cell_type": "code",
      "source": [
        "if __name__ == \"__main__\":\n",
        "    file_path = \"dna2.fasta\"  # Replace with actual file path\n",
        "    reading_frame = 2  # Change to 2 or 3 as needed\n",
        "    repeat_length = 7  # Adjust based on requirement\n",
        "    main(file_path, reading_frame, repeat_length)"
      ],
      "metadata": {
        "colab": {
          "base_uri": "https://localhost:8080/"
        },
        "id": "bsd-ueH3qYl3",
        "outputId": "1acade97-9484-46ac-e08c-67f86fc8d82f"
      },
      "execution_count": 31,
      "outputs": [
        {
          "output_type": "stream",
          "name": "stdout",
          "text": [
            "Number of records in file: 18\n",
            "Shortest sequence(s) (115 bp): ['gi|142022655|gb|EQ086233.1|346']\n",
            "Longest sequence(s) (4894 bp): ['gi|142022655|gb|EQ086233.1|255']\n",
            "\n",
            "Longest ORF in the file:\n",
            "Sequence ID: gi|142022655|gb|EQ086233.1|16, Length: 1458, Start Position: 3071\n",
            "\n",
            "Most frequent repeats of length 7 :\n",
            "CGCGCCG: 63 times\n"
          ]
        }
      ]
    },
    {
      "cell_type": "code",
      "source": [
        "# Define the filename for the FASTA file\n",
        "filename = \"myseq.fa\"\n",
        "\n",
        "# Define the FASTA-formatted content with multiple DNA sequences\n",
        "# Define the FASTA content that matches the sequences in the image\n",
        "fasta_content = \"\"\">gi|733962926|gb|KP271020.1| Zaire ebolavirus isolate Ebola virus\n",
        "H.sapiens-wt/COD/2014/Lomela-Lokolia9, complete genome\n",
        "CATGCTACGGTGCTAAAAAGCTCCATAGTTGAGGACATCGTGTTTTAAATATAGTAGTTGCC\n",
        ">gi|733962903|gb|KP271019.1| Zaire ebolavirus isolate Ebola virus\n",
        "H.sapiens-wt/COD/2014/Lomela-Lokolia17, partial genome\n",
        "CATGCTACGGTGCTAAAAAGCTCCATAGTTGAGGACATCGTGTTTTAAATATAGTAGTTGCC\n",
        ">gi|733962878|gb|KP271018.1| Zaire ebolavirus isolate Ebola virus\n",
        "H.sapiens-wt/COD/2014/Lomela-Lokolia6, complete genome\n",
        "CATGCTACGGTGCTAAAAAGCTCCATAGTTGAGGACATCGTGTTTTAAATATAGTAGTTGCC\n",
        "\"\"\"\n",
        "\n",
        "\n",
        "# Open the file in write mode and save the sequences\n",
        "with open(filename, \"w\") as fasta_file:\n",
        "    fasta_file.write(fasta_content)\n",
        "\n",
        "# Print success message\n",
        "print(f\"The FASTA file '{filename}' has been successfully created with sample DNA sequences.\")\n"
      ],
      "metadata": {
        "colab": {
          "base_uri": "https://localhost:8080/"
        },
        "collapsed": true,
        "id": "eVnnCT6G_XuT",
        "outputId": "15aee15c-2ef2-47e9-f2b2-9cf0a6993f57"
      },
      "execution_count": 32,
      "outputs": [
        {
          "output_type": "stream",
          "name": "stdout",
          "text": [
            "The FASTA file 'myseq.fa' has been successfully created with sample DNA sequences.\n"
          ]
        }
      ]
    },
    {
      "cell_type": "markdown",
      "source": [
        "- Imports the NCBIWWW module from Bio.Blast, which provides functionality to perform BLAST queries using NCBI's online servers.\n",
        "- \"blastn\" is used for nucleotide sequence comparisons.\n",
        "Other options include \"blastp\" (for proteins), \"blastx\" (translated nucleotide vs protein), and \"tblastn\" (protein vs translated nucleotide).\n",
        "- \"nt\" stands for Nucleotide collection database, which contains a comprehensive set of publicly available nucleotide sequences. Other databases include \"nr\" (non-redundant protein sequences), \"swissprot\" (curated protein sequences), and \"refseq_rna\" (reference RNA sequences).\n"
      ],
      "metadata": {
        "id": "bmxqjPdgAK8j"
      }
    },
    {
      "cell_type": "code",
      "execution_count": 33,
      "metadata": {
        "id": "zsiMcaDl8nF8"
      },
      "outputs": [],
      "source": [
        "fasta_string = open(\"myseq.fa\").read()  # Read the sequence file content\n",
        "\n",
        "result_handle = NCBIWWW.qblast(\"blastn\", \"nt\", fasta_string)  # Perform a remote BLAST search using the specified program and database\n"
      ]
    }
  ]
}