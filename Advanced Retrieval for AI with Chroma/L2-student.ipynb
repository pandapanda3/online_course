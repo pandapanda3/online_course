{
 "cells": [
  {
   "cell_type": "markdown",
   "id": "67a33665-b829-463b-ac95-e2262cf460fc",
   "metadata": {},
   "source": [
    "## Lab 2 -Pitfalls of retrieval - when simple vector search fails! \n",
    "\n",
    "Build a **retrieval-augmented generation (RAG)** pipeline to extract relevant information from a document, visualize embeddings using UMAP, and evaluate retrieval performance.\n",
    "\n",
    "\n",
    "## **Steps Performed**\n",
    "\n",
    "### 1. **Data Loading and Preprocessing**\n",
    "- Loaded the **Microsoft Annual Report 2022** PDF.\n",
    "- Extracted and cleaned text using `PyPDF` and split it into smaller chunks for processing:\n",
    "   - **Character-level splitting** with overlap for context.\n",
    "   - **Token-level splitting** to ensure compliance with model input limits.\n",
    "\n",
    "\n",
    "### 2. **Generate Embeddings**\n",
    "- Generated embeddings for text chunks using a pre-trained **SentenceTransformer** embedding function.\n",
    "- Stored the embeddings and text chunks into a **ChromaDB** vector database.\n",
    "\n",
    "### 3. **Retrieve Relevant Documents**\n",
    "- Performed semantic search in ChromaDB by embedding user queries:\n",
    "   - Example queries:\n",
    "     - *\"What is the total revenue?\"*\n",
    "     - *\"What has been the investment in research and development?\"*\n",
    "- Retrieved the **top-5 relevant document chunks** based on similarity to the query.\n",
    "\n",
    "\n",
    "### 4. **Dimensionality Reduction with UMAP**\n",
    "- Applied **UMAP** to project high-dimensional embeddings into a 2D space:\n",
    "   - Visualized the dataset embeddings, query embedding, and retrieved embeddings.\n",
    "   - Used color coding:\n",
    "     - **Gray dots**: All text embeddings in the database.\n",
    "     - **Red X**: Query embedding.\n",
    "     - **Green circles**: Retrieved document embeddings.\n",
    "\n",
    "\n",
    "### 5. **Embedding Visualization**\n",
    "- Visualized the relationship between the query and the retrieved documents:\n",
    "   - Demonstrated the proximity of the query embedding to the retrieved results.\n",
    "   - Highlighted how well the retrieval matches the semantic intent of the query.\n",
    "\n",
    "\n",
    "## **Key Technologies Used**\n",
    "- **ChromaDB**: Vector database for efficient embedding storage and retrieval.\n",
    "- **SentenceTransformer**: Pre-trained model for generating text embeddings.\n",
    "- **UMAP**: Non-linear dimensionality reduction for visualizing high-dimensional embeddings.\n",
    "- **Matplotlib**: Visualization library for plotting embeddings in 2D space.\n",
    "\n",
    "## **Results**\n",
    "- Successfully implemented a RAG pipeline with:\n",
    "   1. Accurate document retrieval based on user queries.\n",
    "   2. Clear 2D visualization of query, dataset, and retrieved embeddings.\n",
    "   3. Validation of retrieval quality through visual and semantic analysis.\n",
    "\n",
    "\n",
    "## **Conclusion**\n",
    "This project demonstrates the power of **embedding-based retrieval** combined with dimensionality reduction for:\n",
    "- Answering user queries effectively.\n",
    "- Analyzing and visualizing the embedding space to evaluate retrieval performance.\n"
   ]
  },
  {
   "cell_type": "code",
   "execution_count": 1,
   "id": "5a5536f0-651c-40e7-aa15-27ee0cda80b7",
   "metadata": {
    "height": 132
   },
   "outputs": [
    {
     "data": {
      "text/plain": [
       "349"
      ]
     },
     "execution_count": 1,
     "metadata": {},
     "output_type": "execute_result"
    }
   ],
   "source": [
    "from helper_utils import load_chroma, word_wrap\n",
    "from chromadb.utils.embedding_functions import SentenceTransformerEmbeddingFunction\n",
    "\n",
    "embedding_function = SentenceTransformerEmbeddingFunction()\n",
    "\n",
    "chroma_collection = load_chroma(filename='microsoft_annual_report_2022.pdf', collection_name='microsoft_annual_report_2022', embedding_function=embedding_function)\n",
    "chroma_collection.count()"
   ]
  },
  {
   "cell_type": "markdown",
   "id": "ba683ca9",
   "metadata": {},
   "source": [
    "## UMAP (Uniform Manifold Approximation and Projection) \n",
    "UMAP is a non-linear dimensionality reduction technique used for reducing high-dimensional data to lower dimensions (e.g., 2D or 3D) while preserving both local and global structures.\n",
    "\n",
    "Key Features:\n",
    "* Fast and Scalable: Efficient for large datasets.\n",
    "* Non-linear Mapping: Captures complex relationships in data better than linear methods like PCA.\n",
    "* Preserves Local and Global Structure: Maintains neighborhood relationships and overall distribution.\n",
    "* Visualization: Ideal for visualizing high-dimensional embeddings or clustering."
   ]
  },
  {
   "cell_type": "code",
   "execution_count": 2,
   "id": "3748b16d-d4a7-49c3-a48a-57dcfc42acd6",
   "metadata": {
    "height": 115
   },
   "outputs": [
    {
     "name": "stderr",
     "output_type": "stream",
     "text": [
      "/usr/local/lib/python3.9/site-packages/umap/umap_.py:1943: UserWarning: n_jobs value -1 overridden to 1 by setting random_state. Use no seed for parallelism.\n",
      "  warn(f\"n_jobs value {self.n_jobs} overridden to 1 by setting random_state. Use no seed for parallelism.\")\n"
     ]
    }
   ],
   "source": [
    "import umap\n",
    "import numpy as np\n",
    "from tqdm import tqdm\n",
    "\n",
    "embeddings = chroma_collection.get(include=['embeddings'])['embeddings']\n",
    "umap_transform = umap.UMAP(random_state=0, transform_seed=0).fit(embeddings)"
   ]
  },
  {
   "cell_type": "code",
   "execution_count": 3,
   "id": "a338ec83-6301-41a5-9ab1-e5d583306a3f",
   "metadata": {
    "height": 142
   },
   "outputs": [],
   "source": [
    "def project_embeddings(embeddings, umap_transform):\n",
    "    # A 2D NumPy array (umap_embeddings) is initialized with shape (n, 2) where n is the number of input embeddings.\n",
    "    umap_embeddings = np.empty((len(embeddings),2))\n",
    "    for i, embedding in enumerate(tqdm(embeddings)): \n",
    "        # transform: Projects each high-dimensional embedding into the 2D space using the pre-trained UMAP model (umap_transform).\n",
    "        umap_embeddings[i] = umap_transform.transform([embedding])\n",
    "    return umap_embeddings   "
   ]
  },
  {
   "cell_type": "code",
   "execution_count": 4,
   "id": "888a86f8-2fe2-4682-bdaf-c15129ed1a32",
   "metadata": {
    "height": 30
   },
   "outputs": [
    {
     "name": "stderr",
     "output_type": "stream",
     "text": [
      "100%|██████████| 349/349 [02:58<00:00,  1.95it/s]\n"
     ]
    }
   ],
   "source": [
    "projected_dataset_embeddings = project_embeddings(embeddings, umap_transform)"
   ]
  },
  {
   "cell_type": "code",
   "execution_count": 5,
   "id": "5665c695-22ea-4264-b1ac-5ba720b6d78b",
   "metadata": {
    "height": 173
   },
   "outputs": [
    {
     "data": {
      "text/plain": [
       "(-3.3378206849098206, 7.230811512470245, 5.923376560211182, 13.01902151107788)"
      ]
     },
     "execution_count": 5,
     "metadata": {},
     "output_type": "execute_result"
    },
    {
     "data": {
      "image/png": "[encoded data removed]",
      "text/plain": [
       "<Figure size 640x480 with 1 Axes>"
      ]
     },
     "metadata": {},
     "output_type": "display_data"
    }
   ],
   "source": [
    "import matplotlib.pyplot as plt\n",
    "\n",
    "plt.figure()\n",
    "plt.scatter(projected_dataset_embeddings[:, 0], projected_dataset_embeddings[:, 1], s=10)\n",
    "# Ensures the x-axis and y-axis have the same scale, so the points are not distorted.\n",
    "# 'equal' ensures a 1:1 aspect ratio, and 'datalim' adjusts the limits based on the data.\n",
    "plt.gca().set_aspect('equal', 'datalim')\n",
    "plt.title('Projected Embeddings')\n",
    "plt.axis('off')"
   ]
  },
  {
   "cell_type": "markdown",
   "id": "b6bc10a6-68b0-4086-b2d1-86464b761e32",
   "metadata": {},
   "source": [
    "## Relevancy and Distraction"
   ]
  },
  {
   "cell_type": "code",
   "execution_count": 9,
   "id": "8ba6c8c5-9ce4-44d0-9223-6fdd77871f87",
   "metadata": {
    "height": 166
   },
   "outputs": [
    {
     "name": "stdout",
     "output_type": "stream",
     "text": [
      "revenue, classified by significant product and service offerings, was\n",
      "as follows : ( in millions ) year ended june 30, 2022 2021 2020 server\n",
      "products and cloud services $ 67, 321 $ 52, 589 $ 41, 379 office\n",
      "products and cloud services 44, 862 39, 872 35, 316 windows 24, 761 22,\n",
      "488 21, 510 gaming 16, 230 15, 370 11, 575 linkedin 13, 816 10, 289 8,\n",
      "077 search and news advertising 11, 591 9, 267 8, 524 enterprise\n",
      "services 7, 407 6, 943 6, 409 devices 6, 991 6, 791 6, 457 other 5, 291\n",
      "4, 479 3, 768 total $ 198, 270 $ 168, 088 $ 143, 015 we have recast\n",
      "certain previously reported amounts in the table above to conform to\n",
      "the way we internally manage and monitor our business.\n",
      "\n",
      "74 note 13 — unearned revenue unearned revenue by segment was as\n",
      "follows : ( in millions ) june 30, 2022 2021 productivity and business\n",
      "processes $ 24, 558 $ 22, 120 intelligent cloud 19, 371 17, 710 more\n",
      "personal computing 4, 479 4, 311 total $ 48, 408 $ 44, 141 changes in\n",
      "unearned revenue were as follows : ( in millions ) year ended june 30,\n",
      "2022 balance, beginning of period $ 44, 141 deferral of revenue 110,\n",
      "455 recognition of unearned revenue ( 106, 188 ) balance, end of period\n",
      "$ 48, 408 revenue allocated to remaining performance obligations, which\n",
      "includes unearned revenue and amounts that will be invoiced and\n",
      "recognized as revenue in future periods, was $ 193 billion as of june\n",
      "30, 2022, of which $ 189 billion is related to the commercial portion\n",
      "of revenue. we expect to recognize approximately 45 % of this revenue\n",
      "over the next 12\n",
      "\n",
      "82 in addition, certain costs incurred at a corporate level that are\n",
      "identifiable and that benefit our segments are allocated to them. these\n",
      "allocated costs include legal, including settlements and fines,\n",
      "information technology, human resources, finance, excise taxes, field\n",
      "selling, shared facilities services, and customer service and support.\n",
      "each allocation is measured differently based on the specific facts and\n",
      "circumstances of the costs being allocated. segment revenue and\n",
      "operating income were as follows during the periods presented : ( in\n",
      "millions ) year ended june 30, 2022 2021 2020 revenue productivity and\n",
      "business processes $ 63, 364 $ 53, 915 $ 46, 398 intelligent cloud 75,\n",
      "251 60, 080 48, 366 more personal computing 59, 655 54, 093 48, 251\n",
      "total $ 198, 270 $ 168, 088 $ 143, 015 operating income\n",
      "\n",
      "software assurance ( “ sa ” ) and cloud services. unearned revenue is\n",
      "generally invoiced annually at the beginning of each contract period\n",
      "for multi - year agreements and recognized ratably over the coverage\n",
      "period. unearned revenue also includes payments for other offerings for\n",
      "which we have been paid in advance and earn the revenue when we\n",
      "transfer control of the product or service. refer to note 1 –\n",
      "accounting policies of the notes to financial statements in our fiscal\n",
      "year 2022 form 10 - k for further discussion. the following table\n",
      "outlines the expected future recognition of unearned revenue as of june\n",
      "30, 2022 : ( in millions ) three months ending september 30, 2022 $ 17,\n",
      "691 december 31, 2022 13, 923 march 31, 2023 9, 491 june 30, 2023 4,\n",
      "433 thereafter 2, 870 total $ 48, 408 if our customers choose to\n",
      "license cloud - based versions of our products and services rather than\n",
      "licensing transaction -\n",
      "\n",
      "productivity and business processes $ 29, 687 $ 24, 351 $ 18, 724\n",
      "intelligent cloud 32, 721 26, 126 18, 324 more personal computing 20,\n",
      "975 19, 439 15, 911 total $ 83, 383 $ 69, 916 $ 52, 959 no sales to an\n",
      "individual customer or country other than the united states accounted\n",
      "for more than 10 % of revenue for fiscal years 2022, 2021, or 2020.\n",
      "revenue, classified by the major geographic areas in which our\n",
      "customers were located, was as follows : ( in millions ) year ended\n",
      "june 30, 2022 2021 2020 united states ( a ) $ 100, 218 $ 83, 953 $ 73,\n",
      "160 other countries 98, 052 84, 135 69, 855 total $ 198, 270 $ 168, 088\n",
      "$ 143, 015 ( a ) includes billings to oems and certain multinational\n",
      "organizations because of the nature of these businesses and the\n",
      "impracticability of determining the geographic source of the revenue.\n",
      "\n"
     ]
    }
   ],
   "source": [
    "query = \"What is the total revenue?\"\n",
    "\n",
    "results = chroma_collection.query(query_texts=query, n_results=5, include=['documents', 'embeddings'])\n",
    "\n",
    "retrieved_documents = results['documents'][0]\n",
    "\n",
    "for document in results['documents'][0]:\n",
    "    print(word_wrap(document))\n",
    "    print('')"
   ]
  },
  {
   "cell_type": "code",
   "execution_count": 10,
   "id": "bfdb54db-a442-423c-b006-c33a257cd7d7",
   "metadata": {
    "height": 115
   },
   "outputs": [
    {
     "name": "stderr",
     "output_type": "stream",
     "text": [
      "100%|██████████| 1/1 [00:00<00:00,  2.25it/s]\n",
      "100%|██████████| 5/5 [00:02<00:00,  2.03it/s]\n"
     ]
    }
   ],
   "source": [
    "query_embedding = embedding_function([query])[0]\n",
    "retrieved_embeddings = results['embeddings'][0]\n",
    "\n",
    "projected_query_embedding = project_embeddings([query_embedding], umap_transform)\n",
    "projected_retrieved_embeddings = project_embeddings(retrieved_embeddings, umap_transform)\n"
   ]
  },
  {
   "cell_type": "code",
   "execution_count": 11,
   "id": "377a84aa-1d93-4e97-9b2d-d59c46355338",
   "metadata": {
    "height": 166
   },
   "outputs": [
    {
     "data": {
      "text/plain": [
       "(-3.3378206849098206, 7.230811512470245, 5.923376560211182, 13.01902151107788)"
      ]
     },
     "execution_count": 11,
     "metadata": {},
     "output_type": "execute_result"
    },
    {
     "data": {
      "image/png": "[encoded data removed]",
      "text/plain": [
       "<Figure size 640x480 with 1 Axes>"
      ]
     },
     "metadata": {},
     "output_type": "display_data"
    }
   ],
   "source": [
    "# Plot the projected query and retrieved documents in the embedding space\n",
    "plt.figure()\n",
    "plt.scatter(projected_dataset_embeddings[:, 0], projected_dataset_embeddings[:, 1], s=10, color='gray')\n",
    "plt.scatter(projected_query_embedding[:, 0], projected_query_embedding[:, 1], s=150, marker='X', color='r')\n",
    "plt.scatter(projected_retrieved_embeddings[:, 0], projected_retrieved_embeddings[:, 1], s=100, facecolors='none', edgecolors='g')\n",
    "\n",
    "plt.gca().set_aspect('equal', 'datalim')\n",
    "plt.title(f'{query}')\n",
    "plt.axis('off')"
   ]
  },
  {
   "cell_type": "code",
   "execution_count": 12,
   "id": "ba0ed8ca-6640-4c09-9cb3-9de5e7cf46dc",
   "metadata": {
    "height": 149
   },
   "outputs": [
    {
     "name": "stdout",
     "output_type": "stream",
     "text": [
      "culture of trust can help navigate the challenges the world faces\n",
      "today. organizations of all sizes have digitized business - critical\n",
      "functions, redefining what they can expect from their business\n",
      "applications. customers are looking to unlock value while simplifying\n",
      "security and management. from infrastructure and data, to business\n",
      "applications and collaboration, we provide unique, differentiated value\n",
      "to customers. we are building a distributed computing fabric – across\n",
      "cloud and the edge – to help every organization build, run, and manage\n",
      "mission - critical workloads anywhere. in the next phase of innovation,\n",
      "artificial intelligence ( “ ai ” ) capabilities are rapidly advancing,\n",
      "fueled by data and knowledge of the world. we are enabling metaverse\n",
      "experiences at all layers of our stack, so customers can more\n",
      "effectively model, automate, simulate, and predict changes within their\n",
      "industrial\n",
      "\n",
      "every organization turn its data into predictive and analytical power.\n",
      "with our new microsoft intelligent data\n",
      "\n",
      "4 our commitment to responsibly develop and use technologies like ai is\n",
      "core to who we are. we put our commitment into practice, not only\n",
      "within microsoft but by empowering our customers and partners to do the\n",
      "same and by advocating for policy change. we released our responsible\n",
      "ai standard, which outlines 17 goals aligned to our six ai principles\n",
      "and includes tools and practices to support them. and we share our open\n",
      "- source tools, including the new responsible ai dashboard, to help\n",
      "developers building ai technologies identify and mitigate issues before\n",
      "deployment. finally, we provide clear reporting and information on how\n",
      "we run our business and how we work with customers and partners,\n",
      "delivering the transparency that is central to trust. our annual impact\n",
      "summary shares more about our progress and learnings across these four\n",
      "commitments, and our reports hub provides detailed reports on our\n",
      "environmental data,\n",
      "\n",
      "5 platform, we are helping customers focus on creating value instead of\n",
      "integrating a fragmented data estate. cosmos db is the go - to database\n",
      "powering the world ’ s most demanding, mission - critical workloads, at\n",
      "any scale. with azure synapse, we ’ re removing traditional barriers\n",
      "between enterprise data warehousing and big data analytics so anyone\n",
      "can collaborate, build, and manage analytics solutions. and we ’ re\n",
      "creating an entirely new market category with microsoft purview, as we\n",
      "help organizations govern, protect, and manage their data estate across\n",
      "platforms and clouds. when it comes to ai, we ’ re seeing a paradigm\n",
      "shift as the world ’ s large ai models become platforms themselves. and\n",
      "we are helping organizations apply the world ’ s most advanced coding\n",
      "and language models to a variety of use cases, such as writing\n",
      "assistance, code generation, and reasoning over data with our new azure\n",
      "openai service. digital and app innovation\n",
      "\n",
      "• technology and research, focuses on our ai innovations and other\n",
      "forward - looking research and development efforts spanning\n",
      "infrastructure, services, and applications. • linkedin, focuses on our\n",
      "services that transform the way customers hire, market, sell, and\n",
      "learn.\n",
      "\n"
     ]
    }
   ],
   "source": [
    "query = \"What is the strategy around artificial intelligence (AI) ?\"\n",
    "results = chroma_collection.query(query_texts=query, n_results=5, include=['documents', 'embeddings'])\n",
    "\n",
    "retrieved_documents = results['documents'][0]\n",
    "\n",
    "for document in results['documents'][0]:\n",
    "    print(word_wrap(document))\n",
    "    print('')"
   ]
  },
  {
   "cell_type": "code",
   "execution_count": 13,
   "id": "28bac3a2-0d29-48dc-9b48-2d9313239a25",
   "metadata": {
    "height": 115
   },
   "outputs": [
    {
     "name": "stderr",
     "output_type": "stream",
     "text": [
      "100%|██████████| 1/1 [00:00<00:00,  1.42it/s]\n",
      "100%|██████████| 5/5 [00:02<00:00,  2.00it/s]\n"
     ]
    }
   ],
   "source": [
    "query_embedding = embedding_function([query])[0]\n",
    "retrieved_embeddings = results['embeddings'][0]\n",
    "\n",
    "projected_query_embedding = project_embeddings([query_embedding], umap_transform)\n",
    "projected_retrieved_embeddings = project_embeddings(retrieved_embeddings, umap_transform)\n"
   ]
  },
  {
   "cell_type": "code",
   "execution_count": 14,
   "id": "db9f2758-0f5a-49e5-b1fa-517b91324575",
   "metadata": {
    "height": 166
   },
   "outputs": [
    {
     "data": {
      "text/plain": [
       "(-3.3378206849098206, 7.230811512470245, 5.923376560211182, 13.01902151107788)"
      ]
     },
     "execution_count": 14,
     "metadata": {},
     "output_type": "execute_result"
    },
    {
     "data": {
      "image/png": "[encoded data removed]",
      "text/plain": [
       "<Figure size 640x480 with 1 Axes>"
      ]
     },
     "metadata": {},
     "output_type": "display_data"
    }
   ],
   "source": [
    "# Plot the projected query and retrieved documents in the embedding space\n",
    "plt.figure()\n",
    "plt.scatter(projected_dataset_embeddings[:, 0], projected_dataset_embeddings[:, 1], s=10, color='gray')\n",
    "plt.scatter(projected_query_embedding[:, 0], projected_query_embedding[:, 1], s=150, marker='X', color='r')\n",
    "plt.scatter(projected_retrieved_embeddings[:, 0], projected_retrieved_embeddings[:, 1], s=100, facecolors='none', edgecolors='g')\n",
    "\n",
    "plt.gca().set_aspect('equal', 'datalim')\n",
    "plt.title(f'{query}')\n",
    "plt.axis('off')"
   ]
  },
  {
   "cell_type": "code",
   "execution_count": 15,
   "id": "aee59493-8a99-4da8-b94f-4747efcfc79d",
   "metadata": {
    "height": 149
   },
   "outputs": [
    {
     "name": "stdout",
     "output_type": "stream",
     "text": [
      "• operating expenses increased $ 1. 5 billion or 14 % driven by\n",
      "investments in gaming, search and news advertising, and windows\n",
      "marketing. operating expenses research and development ( in millions,\n",
      "except percentages ) 2022 2021 percentage change research and\n",
      "development $ 24, 512 $ 20, 716 18 % as a percent of revenue 12 % 12 %\n",
      "0ppt research and development expenses include payroll, employee\n",
      "benefits, stock - based compensation expense, and other headcount -\n",
      "related expenses associated with product development. research and\n",
      "development expenses also include third - party development and\n",
      "programming costs, localization costs incurred to translate software\n",
      "for international markets, and the amortization of purchased software\n",
      "code and services content. research and development expenses increased\n",
      "$ 3. 8 billion or 18 % driven by investments in cloud engineering,\n",
      "gaming, and linkedin. sales and marketing\n",
      "\n",
      "competitive in local markets and enables us to continue to attract top\n",
      "talent from across the world. we plan to continue to make significant\n",
      "investments in a broad range of product research and development\n",
      "activities, and as appropriate we will coordinate our research and\n",
      "development across operating segments and leverage the results across\n",
      "the company. in addition to our main research and development\n",
      "operations, we also operate microsoft research. microsoft research is\n",
      "one of the world ’ s largest corporate research organizations and works\n",
      "in close collaboration with top universities around the world to\n",
      "advance the state - of - the - art in computer science and a broad\n",
      "range of other disciplines, providing us a unique perspective on future\n",
      "trends and contributing to our innovation.\n",
      "\n",
      "our success is based on our ability to create new and compelling\n",
      "products, services, and experiences for our users, to initiate and\n",
      "embrace disruptive technology trends, to enter new geographic and\n",
      "product markets, and to drive broad adoption of our products and\n",
      "services. we invest in a range of emerging technology trends and\n",
      "breakthroughs that we believe offer significant opportunities to\n",
      "deliver value to our customers and growth for the company. based on our\n",
      "assessment of key technology trends, we maintain our long - term\n",
      "commitment to research and development across a wide spectrum of\n",
      "technologies, tools, and platforms spanning digital work and life\n",
      "experiences, cloud computing, ai, devices, and operating systems. while\n",
      "our main product research and development facilities are located in\n",
      "redmond, washington, we also operate research and development\n",
      "facilities in other parts of the u. s. and around the world. this\n",
      "global approach helps us remain\n",
      "\n",
      "when the world around us does well. that ’ s what i believe will lead\n",
      "to widespread human progress and ultimately improve the lives of\n",
      "everyone. there is no more powerful input than digital technology to\n",
      "drive the world ’ s economic output. this is the core thesis for our\n",
      "being as a company, but it ’ s not enough. as we drive global economic\n",
      "growth, we must also commit to creating a more inclusive, equitable,\n",
      "sustainable, and trusted future. support inclusive economic growth we\n",
      "must ensure the growth we drive reaches every person, organization,\n",
      "community, and country. this starts with increasing access to digital\n",
      "skills. this year alone, more than 23 million people accessed digital\n",
      "skills training as part of our global skills initiative.\n",
      "\n",
      "also increased the number of identified partners in the black partner\n",
      "growth initiative and continue to invest in the partner community\n",
      "through the black channel partner alliance by supporting events focused\n",
      "on business growth, accelerators, and mentorship. progress does not\n",
      "undo the egregious injustices of the past or diminish those who\n",
      "continue to live with inequity. we are committed to leveraging our\n",
      "resources to help accelerate diversity and inclusion across our\n",
      "ecosystem and to hold ourselves accountable to accelerate change – for\n",
      "microsoft, and beyond. investing in digital skills the covid - 19\n",
      "pandemic led to record unemployment, disrupting livelihoods of people\n",
      "around the world. after helping over 30 million people in 249 countries\n",
      "and territories with our global skills initiative, we introduced a new\n",
      "initiative to support a more skills - based labor market, with greater\n",
      "flexibility and accessible learning paths to develop the right skills\n",
      "\n"
     ]
    }
   ],
   "source": [
    "query = \"What has been the investment in research and development?\"\n",
    "results = chroma_collection.query(query_texts=query, n_results=5, include=['documents', 'embeddings'])\n",
    "\n",
    "retrieved_documents = results['documents'][0]\n",
    "\n",
    "for document in results['documents'][0]:\n",
    "    print(word_wrap(document))\n",
    "    print('')"
   ]
  },
  {
   "cell_type": "code",
   "execution_count": 16,
   "id": "f5eda9bc-ae76-4db6-9e0c-ae099d852d78",
   "metadata": {
    "height": 115
   },
   "outputs": [
    {
     "name": "stderr",
     "output_type": "stream",
     "text": [
      "100%|██████████| 1/1 [00:00<00:00,  2.17it/s]\n",
      "100%|██████████| 5/5 [00:02<00:00,  2.04it/s]\n"
     ]
    }
   ],
   "source": [
    "query_embedding = embedding_function([query])[0]\n",
    "retrieved_embeddings = results['embeddings'][0]\n",
    "\n",
    "projected_query_embedding = project_embeddings([query_embedding], umap_transform)\n",
    "projected_retrieved_embeddings = project_embeddings(retrieved_embeddings, umap_transform)\n"
   ]
  },
  {
   "cell_type": "code",
   "execution_count": 17,
   "id": "b1183e75-4c65-422e-bc47-48010d8b29c9",
   "metadata": {
    "height": 166
   },
   "outputs": [
    {
     "data": {
      "text/plain": [
       "(-3.3378206849098206, 7.230811512470245, 5.923376560211182, 13.01902151107788)"
      ]
     },
     "execution_count": 17,
     "metadata": {},
     "output_type": "execute_result"
    },
    {
     "data": {
      "image/png": "[encoded data removed]",
      "text/plain": [
       "<Figure size 640x480 with 1 Axes>"
      ]
     },
     "metadata": {},
     "output_type": "display_data"
    }
   ],
   "source": [
    "# Plot the projected query and retrieved documents in the embedding space\n",
    "plt.figure()\n",
    "plt.scatter(projected_dataset_embeddings[:, 0], projected_dataset_embeddings[:, 1], s=10, color='gray')\n",
    "plt.scatter(projected_query_embedding[:, 0], projected_query_embedding[:, 1], s=150, marker='X', color='r')\n",
    "plt.scatter(projected_retrieved_embeddings[:, 0], projected_retrieved_embeddings[:, 1], s=100, facecolors='none', edgecolors='g')\n",
    "\n",
    "plt.gca().set_aspect('equal', 'datalim')\n",
    "plt.title(f'{query}')\n",
    "plt.axis('off')"
   ]
  },
  {
   "cell_type": "code",
   "execution_count": 18,
   "id": "5fcd85cc-8898-41ed-a0aa-bd8a33fc565a",
   "metadata": {
    "height": 149
   },
   "outputs": [
    {
     "name": "stdout",
     "output_type": "stream",
     "text": [
      "we use metrics in assessing the performance of our business and to make\n",
      "informed decisions regarding the allocation of resources. we disclose\n",
      "metrics to enable investors to evaluate progress against our ambitions,\n",
      "provide transparency into performance trends, and reflect the continued\n",
      "evolution of our products and services. our commercial and other\n",
      "business metrics are fundamentally connected based on how customers use\n",
      "our products and\n",
      "\n",
      "18 total rewards we develop dynamic, sustainable, market - driven, and\n",
      "strategic programs with the goal of providing a highly differentiated\n",
      "portfolio to attract, reward, and retain top talent and enable our\n",
      "employees to thrive. these programs reinforce our culture and values\n",
      "such as collaboration and growth mindset. managers evaluate and\n",
      "recommend rewards based on, for example, how well we leverage the work\n",
      "of others and contribute to the success of our colleagues. we monitor\n",
      "pay equity and career progress across multiple dimensions. as part of\n",
      "our effort to promote a one microsoft and inclusive culture, in fiscal\n",
      "year 2021 we expanded stock eligibility to all microsoft employees as\n",
      "part of our annual rewards process. this includes all non - exempt and\n",
      "exempt employees and equivalents across the globe including business\n",
      "support professionals and datacenter and retail employees. in response\n",
      "\n",
      "19 • in - the - classroom learning, learning cohorts, our early - in -\n",
      "career aspire program, and manager excellence communities. • required\n",
      "learning for all employees and managers on topics such as compliance,\n",
      "regulation, company culture, leadership, and management. this includes\n",
      "the annual standards of business conduct training. • on - the - job “\n",
      "stretch ” and advancement opportunities. • managers holding\n",
      "conversations about employees ’ career and development plans, coaching\n",
      "on career opportunities, and programs like mentoring and sponsorship. •\n",
      "customized manager learning to build people manager capabilities and\n",
      "similar learning solutions to build leadership skills for all employees\n",
      "including differentiated leadership development programs. • new\n",
      "employee orientation covering a range of topics including company\n",
      "values, and culture, as well as ongoing onboarding programs.\n",
      "\n",
      "our success is based on our ability to create new and compelling\n",
      "products, services, and experiences for our users, to initiate and\n",
      "embrace disruptive technology trends, to enter new geographic and\n",
      "product markets, and to drive broad adoption of our products and\n",
      "services. we invest in a range of emerging technology trends and\n",
      "breakthroughs that we believe offer significant opportunities to\n",
      "deliver value to our customers and growth for the company. based on our\n",
      "assessment of key technology trends, we maintain our long - term\n",
      "commitment to research and development across a wide spectrum of\n",
      "technologies, tools, and platforms spanning digital work and life\n",
      "experiences, cloud computing, ai, devices, and operating systems. while\n",
      "our main product research and development facilities are located in\n",
      "redmond, washington, we also operate research and development\n",
      "facilities in other parts of the u. s. and around the world. this\n",
      "global approach helps us remain\n",
      "\n",
      "17 as of june 30, 2022, we employed approximately 221, 000 people on a\n",
      "full - time basis, 122, 000 in the u. s. and 99, 000 internationally.\n",
      "of the total employed people, 85, 000 were in operations, including\n",
      "manufacturing, distribution, product support, and consulting services ;\n",
      "73, 000 were in product research and development ; 47, 000 were in\n",
      "sales and marketing ; and 16, 000 were in general and administration.\n",
      "certain employees are subject to collective bargaining agreements. our\n",
      "culture microsoft ’ s culture is grounded in the growth mindset. this\n",
      "means everyone is on a continuous journey to learn and grow. we believe\n",
      "potential can be nurtured and is not pre - determined, and we should\n",
      "always be learning and curious – trying new things without fear of\n",
      "failure. we identified four attributes that allow growth mindset to\n",
      "flourish : • obsessing over what matters to our customers. • becoming\n",
      "more diverse and inclusive in everything we do.\n",
      "\n"
     ]
    }
   ],
   "source": [
    "query = \"What has Michael Jordan done for us lately?\"\n",
    "results = chroma_collection.query(query_texts=query, n_results=5, include=['documents', 'embeddings'])\n",
    "\n",
    "retrieved_documents = results['documents'][0]\n",
    "\n",
    "for document in results['documents'][0]:\n",
    "    print(word_wrap(document))\n",
    "    print('')"
   ]
  },
  {
   "cell_type": "code",
   "execution_count": 19,
   "id": "c65337e9-85ee-47f7-89fd-7fe77cd0e1b2",
   "metadata": {
    "height": 115
   },
   "outputs": [
    {
     "name": "stderr",
     "output_type": "stream",
     "text": [
      "100%|██████████| 1/1 [00:00<00:00,  2.20it/s]\n",
      "100%|██████████| 5/5 [00:02<00:00,  2.01it/s]\n"
     ]
    }
   ],
   "source": [
    "query_embedding = embedding_function([query])[0]\n",
    "retrieved_embeddings = results['embeddings'][0]\n",
    "\n",
    "projected_query_embedding = project_embeddings([query_embedding], umap_transform)\n",
    "projected_retrieved_embeddings = project_embeddings(retrieved_embeddings, umap_transform)\n"
   ]
  },
  {
   "cell_type": "code",
   "execution_count": 20,
   "id": "a7794092-4195-4cf3-9eab-11c9c05a26b9",
   "metadata": {
    "height": 166
   },
   "outputs": [
    {
     "data": {
      "text/plain": [
       "(-3.3378206849098206, 7.230811512470245, 5.923376560211182, 13.01902151107788)"
      ]
     },
     "execution_count": 20,
     "metadata": {},
     "output_type": "execute_result"
    },
    {
     "data": {
      "image/png": "[encoded data removed]",
      "text/plain": [
       "<Figure size 640x480 with 1 Axes>"
      ]
     },
     "metadata": {},
     "output_type": "display_data"
    }
   ],
   "source": [
    "# Plot the projected query and retrieved documents in the embedding space\n",
    "plt.figure()\n",
    "plt.scatter(projected_dataset_embeddings[:, 0], projected_dataset_embeddings[:, 1], s=10, color='gray')\n",
    "plt.scatter(projected_query_embedding[:, 0], projected_query_embedding[:, 1], s=150, marker='X', color='r')\n",
    "plt.scatter(projected_retrieved_embeddings[:, 0], projected_retrieved_embeddings[:, 1], s=100, facecolors='none', edgecolors='g')\n",
    "\n",
    "plt.gca().set_aspect('equal', 'datalim')\n",
    "plt.title(f'{query}')\n",
    "plt.axis('off')"
   ]
  },
  {
   "cell_type": "code",
   "execution_count": null,
   "id": "f2cab7a1-1be7-45f0-83b7-543e48f83901",
   "metadata": {
    "height": 30
   },
   "outputs": [],
   "source": []
  },
  {
   "cell_type": "code",
   "execution_count": null,
   "id": "fe0343be-73c9-4aed-83b0-aba09569ac87",
   "metadata": {
    "height": 30
   },
   "outputs": [],
   "source": []
  },
  {
   "cell_type": "code",
   "execution_count": null,
   "id": "6f0f3e33-e517-4f6b-8b38-c47c1e3d40b4",
   "metadata": {
    "height": 30
   },
   "outputs": [],
   "source": []
  },
  {
   "cell_type": "code",
   "execution_count": null,
   "id": "a16fdcb1-57d0-4f04-af8f-7c7fc594d947",
   "metadata": {
    "height": 30
   },
   "outputs": [],
   "source": []
  },
  {
   "cell_type": "code",
   "execution_count": null,
   "id": "babe7893-9cbc-43c5-94ef-cbf8f5d68cf2",
   "metadata": {
    "height": 30
   },
   "outputs": [],
   "source": []
  },
  {
   "cell_type": "code",
   "execution_count": null,
   "id": "60a9524b-1085-4bdf-a161-39f11397dc1f",
   "metadata": {
    "height": 30
   },
   "outputs": [],
   "source": []
  },
  {
   "cell_type": "code",
   "execution_count": null,
   "id": "d189f088-b58e-4583-9590-afdfa624cf87",
   "metadata": {
    "height": 30
   },
   "outputs": [],
   "source": []
  },
  {
   "cell_type": "code",
   "execution_count": null,
   "id": "7b26a01a-4575-446b-b8dc-a8c5ab153172",
   "metadata": {
    "height": 30
   },
   "outputs": [],
   "source": []
  },
  {
   "cell_type": "code",
   "execution_count": null,
   "id": "0950575b-b69d-46a3-8c91-c7af89f5c204",
   "metadata": {
    "height": 30
   },
   "outputs": [],
   "source": []
  },
  {
   "cell_type": "code",
   "execution_count": null,
   "id": "3f123ad8-b2e8-4a25-8b42-a520ecaf566b",
   "metadata": {
    "height": 30
   },
   "outputs": [],
   "source": []
  },
  {
   "cell_type": "code",
   "execution_count": null,
   "id": "83c04587-d1de-419c-a213-2e3eb67dc33d",
   "metadata": {
    "height": 30
   },
   "outputs": [],
   "source": []
  },
  {
   "cell_type": "code",
   "execution_count": null,
   "id": "d3155972-824e-4ebe-a692-2227c113c5a8",
   "metadata": {
    "height": 30
   },
   "outputs": [],
   "source": []
  },
  {
   "cell_type": "code",
   "execution_count": null,
   "id": "d8144a4a-85f6-4800-87f9-36a1b6ceda1f",
   "metadata": {
    "height": 30
   },
   "outputs": [],
   "source": []
  },
  {
   "cell_type": "code",
   "execution_count": null,
   "id": "8ff0b18e-12a0-4ac0-97dd-8618b22e7dbf",
   "metadata": {
    "height": 30
   },
   "outputs": [],
   "source": []
  },
  {
   "cell_type": "code",
   "execution_count": null,
   "id": "03ca7e7c-4b47-4652-9b46-a40b3dffa5e6",
   "metadata": {
    "height": 30
   },
   "outputs": [],
   "source": []
  },
  {
   "cell_type": "code",
   "execution_count": null,
   "id": "f74e7d67-7f51-41c4-8e25-edbaa02d0bd8",
   "metadata": {
    "height": 30
   },
   "outputs": [],
   "source": []
  },
  {
   "cell_type": "code",
   "execution_count": null,
   "id": "9188e886-d406-406f-b234-f5c3353a77a2",
   "metadata": {
    "height": 30
   },
   "outputs": [],
   "source": []
  },
  {
   "cell_type": "code",
   "execution_count": null,
   "id": "3d3bb286-2694-4ed4-8466-46865e997ced",
   "metadata": {
    "height": 30
   },
   "outputs": [],
   "source": []
  },
  {
   "cell_type": "code",
   "execution_count": null,
   "id": "2876084b-4038-4b0c-8ec8-8294a86adfc1",
   "metadata": {
    "height": 30
   },
   "outputs": [],
   "source": []
  },
  {
   "cell_type": "code",
   "execution_count": null,
   "id": "3ac542e1-b094-431f-9611-cf7e36d3f0de",
   "metadata": {
    "height": 30
   },
   "outputs": [],
   "source": []
  },
  {
   "cell_type": "code",
   "execution_count": null,
   "id": "bcd6114b-c09d-4173-a623-9a08aaf63e4b",
   "metadata": {
    "height": 30
   },
   "outputs": [],
   "source": []
  },
  {
   "cell_type": "code",
   "execution_count": null,
   "id": "ad10ab65-b351-4f4b-b7d2-63474acfb9f9",
   "metadata": {
    "height": 30
   },
   "outputs": [],
   "source": []
  },
  {
   "cell_type": "code",
   "execution_count": null,
   "id": "800f3d81-cbdb-4ba4-8d49-85747fdfded8",
   "metadata": {
    "height": 30
   },
   "outputs": [],
   "source": []
  },
  {
   "cell_type": "code",
   "execution_count": null,
   "id": "37847448-c9f6-4f51-bf06-f7809964a8b2",
   "metadata": {
    "height": 30
   },
   "outputs": [],
   "source": []
  },
  {
   "cell_type": "code",
   "execution_count": null,
   "id": "2dcefc87-0964-4b94-946b-2145781ad606",
   "metadata": {
    "height": 30
   },
   "outputs": [],
   "source": []
  },
  {
   "cell_type": "code",
   "execution_count": null,
   "id": "5fc994bc-7b1e-476a-9df9-300a3e374882",
   "metadata": {
    "height": 30
   },
   "outputs": [],
   "source": []
  },
  {
   "cell_type": "code",
   "execution_count": null,
   "id": "9ef5f5d5-acb7-4b0a-93ef-e61306708e69",
   "metadata": {
    "height": 30
   },
   "outputs": [],
   "source": []
  },
  {
   "cell_type": "code",
   "execution_count": null,
   "id": "44e4b33f-d8fb-4f3a-b884-8b43a3766583",
   "metadata": {
    "height": 30
   },
   "outputs": [],
   "source": []
  },
  {
   "cell_type": "code",
   "execution_count": null,
   "id": "c2a480a2-2c29-4a01-80dd-ee41934b7901",
   "metadata": {
    "height": 30
   },
   "outputs": [],
   "source": []
  },
  {
   "cell_type": "code",
   "execution_count": null,
   "id": "8127c2bf-0d15-4b62-b46a-f7a17ad2ec92",
   "metadata": {
    "height": 30
   },
   "outputs": [],
   "source": []
  },
  {
   "cell_type": "code",
   "execution_count": null,
   "id": "18ded129-a637-4269-a116-550fe9a90570",
   "metadata": {
    "height": 30
   },
   "outputs": [],
   "source": []
  },
  {
   "cell_type": "code",
   "execution_count": null,
   "id": "c1d7ee44-7b29-483f-a3f2-cc9d8e18880e",
   "metadata": {
    "height": 30
   },
   "outputs": [],
   "source": []
  },
  {
   "cell_type": "code",
   "execution_count": null,
   "id": "8e450dd8-9719-42c6-8c3c-33cac910e0a5",
   "metadata": {
    "height": 30
   },
   "outputs": [],
   "source": []
  }
 ],
 "metadata": {
  "kernelspec": {
   "display_name": "Python 3 (ipykernel)",
   "language": "python",
   "name": "python3"
  },
  "language_info": {
   "codemirror_mode": {
    "name": "ipython",
    "version": 3
   },
   "file_extension": ".py",
   "mimetype": "text/x-python",
   "name": "python",
   "nbconvert_exporter": "python",
   "pygments_lexer": "ipython3",
   "version": "3.9.19"
  }
 },
 "nbformat": 4,
 "nbformat_minor": 5
}
